{
 "cells": [
  {
   "cell_type": "code",
   "execution_count": null,
   "id": "a8e87588",
   "metadata": {},
   "outputs": [
    {
     "name": "stderr",
     "output_type": "stream",
     "text": [
      "Duplicate key in file PosixPath('/Users/takahashigenki/.matplotlib/stylelib/genki.mplstyle'), line 176 ('font.family         : IPAexGothic')\n"
     ]
    }
   ],
   "source": [
    "import sys\n",
    "sys.path.append(\"..\")\n",
    "\n",
    "import os\n",
    "import json\n",
    "import glob\n",
    "import cv2\n",
    "import numpy as np\n",
    "import pandas as pd\n",
    "import matplotlib\n",
    "import matplotlib.pyplot as plt\n",
    "import plotly.graph_objs as go\n",
    "import seaborn as sns\n",
    "\n",
    "from PIL import Image, ImageOps\n",
    "from skimage import io\n",
    "from skimage.color import rgba2rgb, rgb2xyz\n",
    "from tqdm import tqdm\n",
    "from dataclasses import dataclass\n",
    "from math import floor, ceil\n",
    "\n",
    "\n",
    "from sklearn.model_selection import StratifiedKFold\n",
    "from sklearn.preprocessing import StandardScaler, LabelEncoder\n",
    "\n",
    "import tensorflow as tf\n",
    "import tensorflow.keras.layers as L\n",
    "import tensorflow.keras.models as M\n",
    "import tensorflow.keras.backend as K\n",
    "import tensorflow_addons as tfa\n",
    "from tensorflow_addons.layers import WeightNormalization\n",
    "from tensorflow.keras.callbacks import ReduceLROnPlateau, ModelCheckpoint, EarlyStopping\n",
    "from sklearn.model_selection import train_test_split, KFold, cross_val_score\n",
    "\n",
    "\n",
    "from main import calibrate_magnetic_wifi_ibeacon_to_position, extract_ibeacon_rssi\n",
    "from main import extract_magnetic_strength\n",
    "from io_f import read_data_file\n",
    "from visualize_f import visualize_trajectory, visualize_heatmap\n",
    "from main import calibrate_magnetic_wifi_ibeacon_to_position\n",
    "from main import extract_magnetic_strength\n",
    "from main import extract_wifi_rssi, extract_wifi_count\n",
    "\n",
    "from processing import SUBMISSION_SITES, split_sample_sbm_to_dataframe, formatting_for_visualize_waypoint, convert_floor_to_int, concatenate_formatting_waypoints\\\n",
    ",create_magnetic_features\n",
    "\n",
    "sns.set_style()\n",
    "%load_ext autoreload\n",
    "%autoreload 2"
   ]
  },
  {
   "cell_type": "code",
   "execution_count": null,
   "id": "5e71716c",
   "metadata": {},
   "outputs": [],
   "source": [
    "base = \"..\"\n",
    "train_paths = glob.glob(\"../train/*/*/*.txt\")\n",
    "test_paths = glob.glob(\"../test/*.txt\")\n",
    "sample_path = f'{base}/train/5cd56b5ae2acfd2d33b58549/5F/5d06134c4a19c000086c4324.txt'\n",
    "# sample_path = test_paths[1]\n",
    "print(sample_path)\n",
    "\n",
    "# sample_mwi = calibrate_magnetic_wifi_ibeacon_to_position([sample_path])\n",
    "# sample_wifi_rssi = extract_wifi_rssi(sample_mwi)\n",
    "# sample_wifi_count = extract_wifi_count(sample_mwi)\n"
   ]
  },
  {
   "cell_type": "code",
   "execution_count": null,
   "id": "7194f776",
   "metadata": {},
   "outputs": [],
   "source": [
    "sample_data = read_data_file(sample_path)\n",
    "print(f\"N.waypoint: {len(sample_data.waypoint)}, N.wifi: {len(sample_data.wifi)}, N.mag: {len(sample_data.magn)}\")\n",
    "sample_mwi = calibrate_magnetic_wifi_ibeacon_to_position([sample_path])\n",
    "print(f\"N.calibrated_data: {len(sample_mwi)}.\")\n",
    "\n",
    "# waypoint plot\n",
    "sample_way = sample_data.waypoint[:,1:3]\n",
    "\n",
    "site = sample_path.split(\"/\")[2]\n",
    "floorNo = sample_path.split(\"/\")[3]\n",
    "floor_plan_filename = f'{base}/metadata/{site}/{floorNo}/floor_image.png'\n",
    "\n",
    "\n",
    "wifi_counts = extract_wifi_count(sample_mwi)\n",
    "# heat_positions = np.array(list(wifi_counts.keys()))\n",
    "# heat_values = np.array(list(wifi_counts.values()))\n",
    "# # filter out positions that no wifi detected\n",
    "# mask = heat_values != 0\n",
    "# heat_positions = heat_positions[mask]\n",
    "# heat_values = heat_values[mask]\n",
    "\n",
    "# # The heatmap\n",
    "# visualize_heatmap(heat_positions, \n",
    "#                   heat_values, \n",
    "#                   floor_plan_filename, \n",
    "#                   width_meter, \n",
    "#                   height_meter\n",
    "#                  )\n",
    "\n",
    "# #uncal\n",
    "# uncal_mwi = processing.uncalibrate_magnetic_wifi_ibeacon_to_position([sample_path])\n",
    "# uncal_wifi_rssi = extract_wifi_rssi(uncal_mwi)\n",
    "\n",
    "# uncal_wifi_counts = extract_wifi_count(uncal_mwi)\n",
    "# uncal_heat_positions = np.array(list(uncal_wifi_counts.keys()))\n",
    "# uncal_heat_values = np.array(list(uncal_wifi_counts.values()))\n",
    "# # filter out positions that no wifi detected\n",
    "# mask = uncal_heat_values != 0\n",
    "# uncal_heat_positions = uncal_heat_positions[mask]\n",
    "# uncal_heat_values = uncal_heat_values[mask]\n",
    "\n",
    "# # The heatmap\n",
    "# visualize_heatmap(uncal_heat_positions, \n",
    "#                   uncal_heat_values, \n",
    "#                   floor_plan_filename, \n",
    "#                   width_meter, \n",
    "#                   height_meter\n",
    "#                  )\n"
   ]
  },
  {
   "cell_type": "code",
   "execution_count": null,
   "id": "7b9377fe",
   "metadata": {},
   "outputs": [],
   "source": [
    "print(f\"No. of interpolated data: {len(sample_mwi.keys())}\\t No. of the raw waypoint:{len(sample_way)}\")"
   ]
  },
  {
   "cell_type": "markdown",
   "id": "ad4d7174",
   "metadata": {},
   "source": [
    "1. siteで階層をまたいでデータを結合\n",
    "2. bsiidをonehot化する, device idを特徴量化する\n",
    "3. "
   ]
  },
  {
   "cell_type": "code",
   "execution_count": null,
   "id": "33a0b462",
   "metadata": {},
   "outputs": [],
   "source": [
    "n_wifi_per_waypoint = []\n",
    "for k, v in sample_mwi.items():\n",
    "    n_wifi_per_waypoint.append(len(v[\"wifi\"]))\n",
    "sns.set()\n",
    "plt.figure(figsize=(8,4))\n",
    "plt.plot(n_wifi_per_waypoint)\n",
    "plt.title(f\"min: {min(n_wifi_per_waypoint)}\")"
   ]
  },
  {
   "cell_type": "code",
   "execution_count": null,
   "id": "2efb4eef",
   "metadata": {},
   "outputs": [],
   "source": [
    "fig = plt.figure(figsize=(8,12))\n",
    "for i, col in enumerate([\"magnetic\", \"ibeacon\", \"wifi\"]):\n",
    "    n_data = []\n",
    "    for k, v in sample_mwi.items():\n",
    "        n_data.append(len(v[col]))\n",
    "    sns.set()\n",
    "    ax = fig.add_subplot(3,1,i+1)\n",
    "    ax.plot(n_data)\n",
    "    ax.set_title(f\"{col} \\t min: {min(n_data)}\")"
   ]
  },
  {
   "cell_type": "markdown",
   "id": "7614548c",
   "metadata": {},
   "source": [
    "# create magnetic feature"
   ]
  },
  {
   "cell_type": "code",
   "execution_count": null,
   "id": "0d105710",
   "metadata": {},
   "outputs": [],
   "source": [
    "# this function create feature of magnetic values in one interpolated path\n",
    "def process_magnetic_feature(mwi):\n",
    "    mag_feature_df = []\n",
    "    for position_key in mwi:\n",
    "        # print(f'Position: {position_key}')\n",
    "        magnetic_data = mwi[position_key]['magnetic']\n",
    "        magnetic_s = np.mean(np.sqrt(np.sum(magnetic_data[:, 1:4] ** 2, axis=1)))\n",
    "        magnetic_1_mean = np.mean(magnetic_data[:, 1])\n",
    "        magnetic_2_mean = np.mean(magnetic_data[:, 2])\n",
    "        magnetic_3_mean = np.mean(magnetic_data[:, 3])\n",
    "        magnetic_1_std = np.std(magnetic_data[:, 1])\n",
    "        magnetic_2_std = np.std(magnetic_data[:, 2])\n",
    "        magnetic_3_std = np.std(magnetic_data[:, 3])\n",
    "        magnetic_cov = np.cov(magnetic_data.T)\n",
    "        tmp_data = [\n",
    "            magnetic_s,\n",
    "            magnetic_1_mean,\n",
    "            magnetic_2_mean,\n",
    "            magnetic_3_mean,\n",
    "            magnetic_1_std,\n",
    "            magnetic_2_std,\n",
    "            magnetic_3_std,\n",
    "        ]\n",
    "        for v in magnetic_cov.reshape(-1): tmp_data.append(v)\n",
    "        mag_feature_df.append(tmp_data)\n",
    "    mag_feature_df = pd.DataFrame(mag_feature_df)\n",
    "    return mag_feature_df\n",
    "\n",
    "process_magnetic_feature(sample_mwi)\n",
    "\n",
    "\n"
   ]
  },
  {
   "cell_type": "markdown",
   "id": "db1ad90e",
   "metadata": {},
   "source": [
    "# create waypoint(grand true values)"
   ]
  },
  {
   "cell_type": "code",
   "execution_count": null,
   "id": "22ab6e38",
   "metadata": {},
   "outputs": [],
   "source": [
    "\n",
    "def create_interpolate_waypoint(mwi):\n",
    "    df_gt = pd.DataFrame(mwi.keys(), columns=[\"x\",\"y\"])\n",
    "    df_gt = pd.concat([df_gt,pd.Series(name=\"floor\", data=[convert_floor_to_int(floorNo) for _ in range(df_gt.shape[0])])], ignore_index=True, axis=1)\n",
    "    df_gt = pd.concat([df_gt,pd.Series(name=\"floor\", data=[site for _ in range(df_gt.shape[0])])], ignore_index=True, axis=1)\n",
    "    df_gt.columns = [\"x\", \"y\", \"floor\", \"site\"]\n",
    "    return df_gt\n",
    "\n",
    "create_interpolate_waypoint(sample_mwi)"
   ]
  },
  {
   "cell_type": "code",
   "execution_count": null,
   "id": "be1e03c7",
   "metadata": {},
   "outputs": [],
   "source": [
    "pd.concat([create_interpolate_waypoint(sample_mwi), process_magnetic_feature(sample_mwi)], axis=1)"
   ]
  },
  {
   "cell_type": "code",
   "execution_count": null,
   "id": "40378eca",
   "metadata": {},
   "outputs": [],
   "source": [
    "site"
   ]
  },
  {
   "cell_type": "code",
   "execution_count": null,
   "id": "d59486e6",
   "metadata": {},
   "outputs": [],
   "source": [
    "# select one site\n",
    "sample = list(SUBMISSION_SITES)[0]\n",
    "sample_paths = {}\n",
    "for path in train_paths:\n",
    "    path_data = path.split(\"/\")    \n",
    "    if path_data[2] == sample:\n",
    "        if not path_data[3] in sample_paths.keys():\n",
    "            sample_paths[f\"{path_data[3]}\"] = []\n",
    "        sample_paths[f\"{path_data[3]}\"].append(path)\n",
    "\n",
    "# result has structure devided by its floor\n",
    "# display(sample_paths)\n",
    "\n",
    "\n",
    "base = \"..\"\n",
    "floor = \"F2\" # because we didnt create matching function of string floor name to the corresponding value;)\n",
    "site = sample\n",
    "pathway_paths = sample_paths[floor]\n",
    "\n",
    "\n",
    "floor_plan_filename = f'{base}/metadata/{site}/{floor}/floor_image.png'\n",
    "\n",
    "sample_pathway = concatenate_formatting_waypoints(pathway_paths)\n",
    "\n",
    "\n",
    "# Prepare width_meter & height_meter\n",
    "json_plan_filename = f'{base}/metadata/{site}/{floor}/floor_info.json'\n",
    "with open(json_plan_filename) as json_file:\n",
    "    json_data = json.load(json_file)\n",
    "    \n",
    "width_meter = json_data[\"map_info\"][\"width\"]\n",
    "height_meter = json_data[\"map_info\"][\"height\"]\n",
    "title = site\n",
    "\n",
    "visualize_trajectory(trajectory = sample_pathway,\n",
    "                     floor_plan_filename = floor_plan_filename,\n",
    "                     width_meter = width_meter,\n",
    "                     height_meter = height_meter,\n",
    "                     title = title\n",
    "                    )\n",
    "\n"
   ]
  },
  {
   "cell_type": "markdown",
   "id": "84dd3c4b",
   "metadata": {},
   "source": [
    "# magnetic, wifi, beacon(?)はsitewideで使う"
   ]
  },
  {
   "cell_type": "code",
   "execution_count": null,
   "id": "2b3bcde7",
   "metadata": {
    "scrolled": true
   },
   "outputs": [],
   "source": [
    "tmp = create_magnetic_features(sample_paths[\"F3\"], \"F3\", site)\n",
    "tmp = tmp.reset_index(drop=True)\n",
    "tmp"
   ]
  },
  {
   "cell_type": "code",
   "execution_count": null,
   "id": "8fe56c8f",
   "metadata": {
    "scrolled": true
   },
   "outputs": [],
   "source": [
    "mg_df = pd.DataFrame()\n",
    "for floor in sample_paths.keys():\n",
    "    tmp = create_magnetic_features(sample_paths[floor], floor, site).reset_index(drop=True)\n",
    "    mg_df = mg_df.append(tmp)\n",
    "mg_df\n",
    "    \n",
    "    "
   ]
  },
  {
   "cell_type": "markdown",
   "id": "5fc034d8",
   "metadata": {},
   "source": [
    "## create LSTM model"
   ]
  },
  {
   "cell_type": "code",
   "execution_count": null,
   "id": "64cc2d5e",
   "metadata": {},
   "outputs": [],
   "source": [
    "\n",
    "site = mg_df.iloc[0,3]\n",
    "X = mg_df.iloc[:,4:]\n",
    "y = mg_df.iloc[:,:3]\n",
    "\n",
    "X_train, X_test, y_train, y_test = train_test_split(X,y, test_size=0.2, random_state=42)\n",
    "\n",
    "#setting\n",
    "# def set_seed():\n",
    "    \n",
    "\n",
    "# hyper-parameter set\n",
    "\n",
    "# cross-validation\n",
    "\n",
    "# epoch"
   ]
  },
  {
   "cell_type": "markdown",
   "id": "27d012d5",
   "metadata": {},
   "source": [
    "### beacon"
   ]
  },
  {
   "cell_type": "code",
   "execution_count": null,
   "id": "2a1bc0c0",
   "metadata": {},
   "outputs": [],
   "source": [
    "beaconデータを使うのはあまり成功していない。"
   ]
  },
  {
   "cell_type": "code",
   "execution_count": null,
   "id": "b959b275",
   "metadata": {},
   "outputs": [],
   "source": [
    "sample_beacon = extract_ibeacon_rssi(sample_mwi)\n",
    "sample_beacon"
   ]
  },
  {
   "cell_type": "code",
   "execution_count": null,
   "id": "bcdca946",
   "metadata": {},
   "outputs": [],
   "source": [
    "sample_mwi"
   ]
  },
  {
   "cell_type": "code",
   "execution_count": null,
   "id": "45b03c36",
   "metadata": {},
   "outputs": [],
   "source": []
  }
 ],
 "metadata": {
  "kernelspec": {
   "display_name": "Python 3",
   "language": "python",
   "name": "python3"
  },
  "language_info": {
   "codemirror_mode": {
    "name": "ipython",
    "version": 3
   },
   "file_extension": ".py",
   "mimetype": "text/x-python",
   "name": "python",
   "nbconvert_exporter": "python",
   "pygments_lexer": "ipython3",
   "version": "3.7.10"
  },
  "toc": {
   "base_numbering": 1,
   "nav_menu": {},
   "number_sections": true,
   "sideBar": true,
   "skip_h1_title": false,
   "title_cell": "Table of Contents",
   "title_sidebar": "Contents",
   "toc_cell": false,
   "toc_position": {},
   "toc_section_display": true,
   "toc_window_display": false
  }
 },
 "nbformat": 4,
 "nbformat_minor": 5
}
