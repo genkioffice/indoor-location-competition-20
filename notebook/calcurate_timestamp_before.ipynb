{
 "cells": [
  {
   "cell_type": "code",
   "execution_count": 6,
   "id": "2ab1af3d",
   "metadata": {},
   "outputs": [
    {
     "name": "stdout",
     "output_type": "stream",
     "text": [
      "The autoreload extension is already loaded. To reload it, use:\n",
      "  %reload_ext autoreload\n"
     ]
    }
   ],
   "source": [
    "import sys\n",
    "sys.path.append(\"..\")\n",
    "\n",
    "import os\n",
    "import json\n",
    "import glob\n",
    "import cv2\n",
    "import numpy as np\n",
    "import pandas as pd\n",
    "import matplotlib\n",
    "import matplotlib.pyplot as plt\n",
    "import plotly.graph_objs as go\n",
    "import seaborn as sns\n",
    "\n",
    "from PIL import Image, ImageOps\n",
    "from skimage import io\n",
    "from skimage.color import rgba2rgb, rgb2xyz\n",
    "from tqdm import tqdm\n",
    "from dataclasses import dataclass\n",
    "from math import floor, ceil\n",
    "\n",
    "from main import calibrate_magnetic_wifi_ibeacon_to_position\n",
    "from main import extract_magnetic_strength\n",
    "from io_f import read_data_file\n",
    "from visualize_f import visualize_trajectory, visualize_heatmap\n",
    "from main import calibrate_magnetic_wifi_ibeacon_to_position\n",
    "from main import extract_magnetic_strength\n",
    "from main import extract_wifi_rssi, extract_wifi_count\n",
    "from processing import SUBMISSION_SITES, split_sample_sbm_to_dataframe, formatting_for_visualize_waypoint, convert_floor_to_int\n",
    "from tqdm import tqdm\n",
    "import os\n",
    "\n",
    "import lightgbm as lgb\n",
    "\n",
    "sns.set_theme()\n",
    "\n",
    "%load_ext autoreload\n",
    "%autoreload 2"
   ]
  },
  {
   "cell_type": "code",
   "execution_count": 3,
   "id": "4f282b9e",
   "metadata": {},
   "outputs": [
    {
     "name": "stderr",
     "output_type": "stream",
     "text": [
      "  2%|▏         | 13/626 [00:02<01:59,  5.14it/s]\n"
     ]
    },
    {
     "ename": "KeyboardInterrupt",
     "evalue": "",
     "output_type": "error",
     "traceback": [
      "\u001b[0;31m---------------------------------------------------------------------------\u001b[0m",
      "\u001b[0;31mKeyboardInterrupt\u001b[0m                         Traceback (most recent call last)",
      "\u001b[0;32m<ipython-input-3-d0ee5dbdc609>\u001b[0m in \u001b[0;36m<module>\u001b[0;34m\u001b[0m\n\u001b[1;32m      1\u001b[0m \u001b[0mtest_paths\u001b[0m \u001b[0;34m=\u001b[0m \u001b[0mglob\u001b[0m\u001b[0;34m.\u001b[0m\u001b[0mglob\u001b[0m\u001b[0;34m(\u001b[0m\u001b[0;34m\"../test/*.txt\"\u001b[0m\u001b[0;34m)\u001b[0m\u001b[0;34m\u001b[0m\u001b[0;34m\u001b[0m\u001b[0m\n\u001b[1;32m      2\u001b[0m \u001b[0;32mfor\u001b[0m \u001b[0mpath\u001b[0m \u001b[0;32min\u001b[0m \u001b[0mtqdm\u001b[0m\u001b[0;34m(\u001b[0m\u001b[0mtest_paths\u001b[0m\u001b[0;34m)\u001b[0m\u001b[0;34m:\u001b[0m\u001b[0;34m\u001b[0m\u001b[0;34m\u001b[0m\u001b[0m\n\u001b[0;32m----> 3\u001b[0;31m     \u001b[0mdata\u001b[0m \u001b[0;34m=\u001b[0m \u001b[0mread_data_file\u001b[0m\u001b[0;34m(\u001b[0m\u001b[0mpath\u001b[0m\u001b[0;34m)\u001b[0m\u001b[0;34m\u001b[0m\u001b[0;34m\u001b[0m\u001b[0m\n\u001b[0m\u001b[1;32m      4\u001b[0m \u001b[0;31m#     for v in data.\u001b[0m\u001b[0;34m\u001b[0m\u001b[0;34m\u001b[0m\u001b[0;34m\u001b[0m\u001b[0m\n",
      "\u001b[0;32m~/code/kaggle/indoor-location-competition-20/io_f.py\u001b[0m in \u001b[0;36mread_data_file\u001b[0;34m(data_filename)\u001b[0m\n\u001b[1;32m    104\u001b[0m     \u001b[0mmagn_uncali\u001b[0m \u001b[0;34m=\u001b[0m \u001b[0mnp\u001b[0m\u001b[0;34m.\u001b[0m\u001b[0marray\u001b[0m\u001b[0;34m(\u001b[0m\u001b[0mmagn_uncali\u001b[0m\u001b[0;34m)\u001b[0m\u001b[0;34m\u001b[0m\u001b[0;34m\u001b[0m\u001b[0m\n\u001b[1;32m    105\u001b[0m     \u001b[0mahrs\u001b[0m \u001b[0;34m=\u001b[0m \u001b[0mnp\u001b[0m\u001b[0;34m.\u001b[0m\u001b[0marray\u001b[0m\u001b[0;34m(\u001b[0m\u001b[0mahrs\u001b[0m\u001b[0;34m)\u001b[0m\u001b[0;34m\u001b[0m\u001b[0;34m\u001b[0m\u001b[0m\n\u001b[0;32m--> 106\u001b[0;31m     \u001b[0mwifi\u001b[0m \u001b[0;34m=\u001b[0m \u001b[0mnp\u001b[0m\u001b[0;34m.\u001b[0m\u001b[0marray\u001b[0m\u001b[0;34m(\u001b[0m\u001b[0mwifi\u001b[0m\u001b[0;34m)\u001b[0m\u001b[0;34m\u001b[0m\u001b[0;34m\u001b[0m\u001b[0m\n\u001b[0m\u001b[1;32m    107\u001b[0m     \u001b[0mibeacon\u001b[0m \u001b[0;34m=\u001b[0m \u001b[0mnp\u001b[0m\u001b[0;34m.\u001b[0m\u001b[0marray\u001b[0m\u001b[0;34m(\u001b[0m\u001b[0mibeacon\u001b[0m\u001b[0;34m)\u001b[0m\u001b[0;34m\u001b[0m\u001b[0;34m\u001b[0m\u001b[0m\n\u001b[1;32m    108\u001b[0m     \u001b[0mwaypoint\u001b[0m \u001b[0;34m=\u001b[0m \u001b[0mnp\u001b[0m\u001b[0;34m.\u001b[0m\u001b[0marray\u001b[0m\u001b[0;34m(\u001b[0m\u001b[0mwaypoint\u001b[0m\u001b[0;34m)\u001b[0m\u001b[0;34m\u001b[0m\u001b[0;34m\u001b[0m\u001b[0m\n",
      "\u001b[0;31mKeyboardInterrupt\u001b[0m: "
     ]
    }
   ],
   "source": [
    "test_paths = glob.glob(\"../test/*.txt\")\n",
    "for path in tqdm(test_paths):\n",
    "    data = read_data_file(path)\n",
    "    for v in data."
   ]
  },
  {
   "cell_type": "code",
   "execution_count": 4,
   "id": "a2ef5a8e",
   "metadata": {},
   "outputs": [
    {
     "data": {
      "text/plain": [
       "ReadData(acce=array([[ 1.2400000e+02, -1.4749146e-01,  9.4824220e-01,  8.7061000e+00],\n",
       "       [ 1.4400000e+02, -2.0599365e-02,  8.3091736e-01,  9.3004610e+00],\n",
       "       [ 1.6400000e+02,  3.7564087e-01,  5.8071900e-01,  9.7248380e+00],\n",
       "       ...,\n",
       "       [ 8.8947000e+04, -2.1239166e+00,  2.1728668e+00,  7.0313570e+00],\n",
       "       [ 8.8968000e+04, -1.4086456e+00,  1.0906830e+00,  9.4315490e+00],\n",
       "       [ 8.8988000e+04, -1.8743134e+00,  1.0434113e+00,  1.0641815e+01]]), acce_uncali=array([[ 1.2400000e+02,  6.2606810e-02,  8.1056213e-01,  8.9419250e+00],\n",
       "       [ 1.4400000e+02, -2.0599365e-02,  8.3091736e-01,  9.3004610e+00],\n",
       "       [ 1.6400000e+02,  3.7564087e-01,  5.8071900e-01,  9.7248380e+00],\n",
       "       ...,\n",
       "       [ 8.8947000e+04, -1.4403687e+00,  1.5186462e+00,  8.5726170e+00],\n",
       "       [ 8.8968000e+04, -2.1239166e+00,  2.1728668e+00,  7.0313570e+00],\n",
       "       [ 8.8988000e+04, -1.4086456e+00,  1.0906830e+00,  9.4315490e+00]]), gyro=array([[ 1.2400000e+02, -2.1545410e-01, -8.2473755e-02, -4.3746950e-02],\n",
       "       [ 1.4400000e+02, -2.7244568e-01,  2.8335571e-02,  1.9104004e-02],\n",
       "       [ 1.6400000e+02, -2.9801940e-01, -1.0025024e-02,  1.5914917e-02],\n",
       "       ...,\n",
       "       [ 8.8947000e+04,  3.8085938e-02,  1.4018250e-01,  1.8955994e-01],\n",
       "       [ 8.8968000e+04, -1.2277222e-01,  4.2514038e-01,  3.2751465e-01],\n",
       "       [ 8.8988000e+04, -3.8110352e-01,  1.5533447e-02,  2.8382874e-01]]), gyro_uncali=array([[ 1.2400000e+02, -1.8542480e-01, -2.0790100e-01, -4.5135498e-02],\n",
       "       [ 1.4400000e+02, -2.7011108e-01,  2.9129028e-02,  1.9851685e-02],\n",
       "       [ 1.6400000e+02, -2.9568480e-01, -9.2315670e-03,  1.6662598e-02],\n",
       "       ...,\n",
       "       [ 8.8947000e+04,  4.0420532e-02,  1.4097595e-01,  1.9030762e-01],\n",
       "       [ 8.8968000e+04, -1.2043762e-01,  4.2593384e-01,  3.2826233e-01],\n",
       "       [ 8.8988000e+04, -3.7876892e-01,  1.6326904e-02,  2.8457642e-01]]), magn=array([[ 1.2400000e+02, -4.4921875e+00,  1.9827270e+01, -3.1034851e+01],\n",
       "       [ 1.4400000e+02, -5.8792114e+00,  1.9132996e+01, -2.9684448e+01],\n",
       "       [ 1.6400000e+02, -4.4921875e+00,  1.9132996e+01, -2.9684448e+01],\n",
       "       ...,\n",
       "       [ 8.8947000e+04,  2.1176147e+01, -2.1797180e+01, -2.4958801e+01],\n",
       "       [ 8.8968000e+04,  2.0483398e+01, -2.3185730e+01, -2.2933960e+01],\n",
       "       [ 8.8988000e+04,  2.1176147e+01, -2.1797180e+01, -2.3609924e+01]]), magn_uncali=array([[ 1.2400000e+02, -3.0525208e+01,  1.8037415e+01, -3.9555054e+02],\n",
       "       [ 1.4400000e+02, -3.1912231e+01,  1.7343140e+01, -3.9420013e+02],\n",
       "       [ 1.6400000e+02, -3.0525208e+01,  1.7343140e+01, -3.9420013e+02],\n",
       "       ...,\n",
       "       [ 8.8947000e+04, -4.8568726e+00, -2.3587036e+01, -3.8947450e+02],\n",
       "       [ 8.8968000e+04, -5.5496216e+00, -2.4975586e+01, -3.8744965e+02],\n",
       "       [ 8.8988000e+04, -4.8568726e+00, -2.3587036e+01, -3.8812560e+02]]), ahrs=array([[ 1.2400000e+02,  3.5520013e-02, -2.5907352e-03, -9.5244400e-02],\n",
       "       [ 1.4400000e+02,  3.7490267e-02, -1.5961796e-03, -9.7026580e-02],\n",
       "       [ 1.6400000e+02,  3.3339415e-02, -4.8803590e-03, -9.2408390e-02],\n",
       "       ...,\n",
       "       [ 8.8947000e+04, -2.9099843e-02,  9.0374630e-02,  9.2344650e-01],\n",
       "       [ 8.8968000e+04, -3.3387540e-02,  9.1294630e-02,  9.2456810e-01],\n",
       "       [ 8.8988000e+04, -3.4775690e-02,  8.7845600e-02,  9.2607975e-01]]), wifi=array([['0000000001918', 'c5c10f3cfc95e82981553a2d2cf1f97178fbffb4',\n",
       "        'd082882236491bb2ea46c5e365cb0ddf439576cd', '-58',\n",
       "        '1574048650951'],\n",
       "       ['0000000001918', 'aed9ae97edc3476dde02ada508f9fcf20b06375c',\n",
       "        '015b7d3d8d73f9845833ac5008afd6ed0564ed2f', '-59',\n",
       "        '1574048665981'],\n",
       "       ['0000000001918', 'ac327de063f75e49897a4b5cd604487df593e57c',\n",
       "        '55137d22a1b203ebf300ce9e0241773e75b6eb1a', '-59',\n",
       "        '1574048666722'],\n",
       "       ...,\n",
       "       ['0000000087792', '9f8522f649bfa809db6e5fd61d052acf76e2a681',\n",
       "        'e97d44a802cca6e98932f7daa897283075d7f190', '-89',\n",
       "        '1574048752368'],\n",
       "       ['0000000087792', 'c0d196a81caed3713c0bbcffcf801e9c4a960609',\n",
       "        '562b17a8bdd4f6f06281c2f980d56f3d12155bac', '-90',\n",
       "        '1574048743365'],\n",
       "       ['0000000087792', 'c261957fcdc227690af02c6c80f8cf99833543d9',\n",
       "        '6dd49be95eb45850b127f9c491c244a32f467c3c', '-90',\n",
       "        '1574048741478']], dtype='<U40'), ibeacon=array([['0000000000142',\n",
       "        '0e570c3406b79266b7ada12e3b9314e7bb9dde3e_6b3507144e8704050e9b306108275cc8261ab574_7811c4c838bcd0750afb82e2a66fbb744f9e1e70',\n",
       "        '-98'],\n",
       "       ['0000000000164',\n",
       "        '4e9d3569a79dcbd102831d1bd587aa4e868ae797_e7772f00e3c5b13f2f589ae09721ffd2209b08e2_58b2068736beea9a40e9c1f76c26ef9a44a61fb7',\n",
       "        '-94'],\n",
       "       ['0000000000189',\n",
       "        '0e570c3406b79266b7ada12e3b9314e7bb9dde3e_6b3507144e8704050e9b306108275cc8261ab574_7811c4c838bcd0750afb82e2a66fbb744f9e1e70',\n",
       "        '-97'],\n",
       "       ...,\n",
       "       ['0000000088792',\n",
       "        '0e570c3406b79266b7ada12e3b9314e7bb9dde3e_6b3507144e8704050e9b306108275cc8261ab574_7811c4c838bcd0750afb82e2a66fbb744f9e1e70',\n",
       "        '-100'],\n",
       "       ['0000000088836',\n",
       "        '0e570c3406b79266b7ada12e3b9314e7bb9dde3e_6b3507144e8704050e9b306108275cc8261ab574_7811c4c838bcd0750afb82e2a66fbb744f9e1e70',\n",
       "        '-97'],\n",
       "       ['0000000088857',\n",
       "        'd7a0f935b19a856d78cbc83a2d3ccc5cacc01891_0716d9708d321ffb6a00818614779e779925365c_48396ec03279bae53f0a6b9ef9c4c2e0e4f850ef',\n",
       "        '-92']], dtype='<U122'), waypoint=array([], dtype=float64))"
      ]
     },
     "execution_count": 4,
     "metadata": {},
     "output_type": "execute_result"
    }
   ],
   "source": [
    "data"
   ]
  },
  {
   "cell_type": "code",
   "execution_count": 5,
   "id": "bb0b9d74",
   "metadata": {},
   "outputs": [
    {
     "data": {
      "text/plain": [
       "datetime.datetime(2019, 11, 15, 14, 58, 56, 775000)"
      ]
     },
     "execution_count": 5,
     "metadata": {},
     "output_type": "execute_result"
    }
   ],
   "source": [
    "import datetime\n",
    "datetime.datetime.fromtimestamp(1573797536775/1000)"
   ]
  },
  {
   "cell_type": "code",
   "execution_count": null,
   "id": "45e5dc80",
   "metadata": {},
   "outputs": [],
   "source": []
  }
 ],
 "metadata": {
  "kernelspec": {
   "display_name": "Python 3",
   "language": "python",
   "name": "python3"
  },
  "language_info": {
   "codemirror_mode": {
    "name": "ipython",
    "version": 3
   },
   "file_extension": ".py",
   "mimetype": "text/x-python",
   "name": "python",
   "nbconvert_exporter": "python",
   "pygments_lexer": "ipython3",
   "version": "3.9.4"
  },
  "toc": {
   "base_numbering": 1,
   "nav_menu": {},
   "number_sections": true,
   "sideBar": true,
   "skip_h1_title": false,
   "title_cell": "Table of Contents",
   "title_sidebar": "Contents",
   "toc_cell": false,
   "toc_position": {},
   "toc_section_display": true,
   "toc_window_display": false
  }
 },
 "nbformat": 4,
 "nbformat_minor": 5
}
