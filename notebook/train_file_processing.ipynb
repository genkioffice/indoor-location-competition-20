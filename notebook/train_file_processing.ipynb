{
 "cells": [
  {
   "cell_type": "markdown",
   "id": "7ab08c25",
   "metadata": {},
   "source": [
    "## purpose: trainデータにdeliminatorの不足が存在する。かんたんに力技で除去できそうなので、処理したものを'interium'へ移す。"
   ]
  },
  {
   "cell_type": "code",
   "execution_count": 2,
   "id": "c6d4f206",
   "metadata": {},
   "outputs": [
    {
     "name": "stdout",
     "output_type": "stream",
     "text": [
      "The autoreload extension is already loaded. To reload it, use:\n",
      "  %reload_ext autoreload\n"
     ]
    }
   ],
   "source": [
    "import sys\n",
    "sys.path.append(\"..\")\n",
    "\n",
    "import os\n",
    "import json\n",
    "import glob\n",
    "import cv2\n",
    "import numpy as np\n",
    "import pandas as pd\n",
    "import matplotlib\n",
    "import matplotlib.pyplot as plt\n",
    "import plotly.graph_objs as go\n",
    "import seaborn as sns\n",
    "\n",
    "from PIL import Image, ImageOps\n",
    "from skimage import io\n",
    "from skimage.color import rgba2rgb, rgb2xyz\n",
    "from tqdm import tqdm\n",
    "from dataclasses import dataclass\n",
    "from math import floor, ceil\n",
    "\n",
    "from main import calibrate_magnetic_wifi_ibeacon_to_position\n",
    "from main import extract_magnetic_strength\n",
    "from io_f import read_data_file\n",
    "from visualize_f import visualize_trajectory, visualize_heatmap\n",
    "from main import calibrate_magnetic_wifi_ibeacon_to_position\n",
    "from main import extract_magnetic_strength\n",
    "from main import extract_wifi_rssi, extract_wifi_count\n",
    "import processing\n",
    "import os\n",
    "\n",
    "sns.set_theme()\n",
    "\n",
    "%load_ext autoreload\n",
    "%autoreload 2"
   ]
  },
  {
   "cell_type": "code",
   "execution_count": 4,
   "id": "724f3e6c",
   "metadata": {},
   "outputs": [
    {
     "data": {
      "text/plain": [
       "False"
      ]
     },
     "execution_count": 4,
     "metadata": {},
     "output_type": "execute_result"
    }
   ],
   "source": [
    "\"tdype_ei\".startswith(\"type\")"
   ]
  },
  {
   "cell_type": "code",
   "execution_count": 5,
   "id": "c4ffc18e",
   "metadata": {},
   "outputs": [],
   "source": [
    "train_paths = glob.glob(\"../train/*/*/*.txt\")\n",
    "\n",
    "# trainパスのものをcsv形式にまとめて保存する\n",
    "for path in train_paths:\n",
    "    \n",
    "    data = remove_undel(path)\n",
    "\n",
    "# pathを読み込み、データを整形する。内部でdeliminator不足を解消する\n",
    "def remove_undel(path):\n",
    "    \n",
    "    with open(path) as f:\n",
    "        lines = f.readlines()\n",
    "    for line in lines:\n",
    "        # deliminator不足の解消\n",
    "        line_data = prepro_line(line)\n",
    "\n",
    "# deliminator不足の解消\n",
    "def prepro_line(line):\n",
    "    vals = line.split(\"\\t\")\n",
    "    if !(vals[1].startswith(\"TYPE\")):\n",
    "        return false\n",
    "    # 同じ行ではtimestampが共有されるので、tsを固定して、データを分割する。\n",
    "    ts = vals[0]\n",
    "    for v in vals:\n",
    "        \n",
    "        "
   ]
  },
  {
   "cell_type": "code",
   "execution_count": null,
   "id": "26c8ffd9",
   "metadata": {},
   "outputs": [],
   "source": []
  },
  {
   "cell_type": "code",
   "execution_count": null,
   "id": "394c2199",
   "metadata": {},
   "outputs": [],
   "source": []
  },
  {
   "cell_type": "code",
   "execution_count": null,
   "id": "7ae4f522",
   "metadata": {},
   "outputs": [],
   "source": []
  },
  {
   "cell_type": "code",
   "execution_count": null,
   "id": "9c747db0",
   "metadata": {},
   "outputs": [],
   "source": []
  },
  {
   "cell_type": "code",
   "execution_count": null,
   "id": "966c7fa7",
   "metadata": {},
   "outputs": [],
   "source": []
  },
  {
   "cell_type": "code",
   "execution_count": null,
   "id": "7008ba74",
   "metadata": {},
   "outputs": [],
   "source": []
  },
  {
   "cell_type": "code",
   "execution_count": null,
   "id": "7c01b09d",
   "metadata": {},
   "outputs": [],
   "source": []
  }
 ],
 "metadata": {
  "kernelspec": {
   "display_name": "Python 3",
   "language": "python",
   "name": "python3"
  },
  "language_info": {
   "codemirror_mode": {
    "name": "ipython",
    "version": 3
   },
   "file_extension": ".py",
   "mimetype": "text/x-python",
   "name": "python",
   "nbconvert_exporter": "python",
   "pygments_lexer": "ipython3",
   "version": "3.9.4"
  },
  "toc": {
   "base_numbering": 1,
   "nav_menu": {},
   "number_sections": true,
   "sideBar": true,
   "skip_h1_title": false,
   "title_cell": "Table of Contents",
   "title_sidebar": "Contents",
   "toc_cell": false,
   "toc_position": {},
   "toc_section_display": true,
   "toc_window_display": false
  }
 },
 "nbformat": 4,
 "nbformat_minor": 5
}
