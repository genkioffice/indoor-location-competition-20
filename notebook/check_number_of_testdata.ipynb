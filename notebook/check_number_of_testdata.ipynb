{
 "cells": [
  {
   "cell_type": "markdown",
   "id": "29639f1c",
   "metadata": {},
   "source": [
    "## purpose: 一パス内でのテストデータの数とsubmissionに必要なデータ数を比較する。もしtestデータのほうが多いならば、余分なテストデータで予測を向上させる特徴量が作成できる"
   ]
  },
  {
   "cell_type": "code",
   "execution_count": 1,
   "id": "b97d2b1f",
   "metadata": {},
   "outputs": [
    {
     "name": "stderr",
     "output_type": "stream",
     "text": [
      "Duplicate key in file PosixPath('/Users/takahashigenki/.matplotlib/stylelib/genki.mplstyle'), line 176 ('font.family         : IPAexGothic')\n"
     ]
    }
   ],
   "source": [
    "import sys\n",
    "sys.path.append(\"..\")\n",
    "\n",
    "import os\n",
    "import json\n",
    "import glob\n",
    "import cv2\n",
    "import numpy as np\n",
    "import pandas as pd\n",
    "import matplotlib\n",
    "import matplotlib.pyplot as plt\n",
    "import plotly.graph_objs as go\n",
    "import seaborn as sns\n",
    "\n",
    "from PIL import Image, ImageOps\n",
    "from skimage import io\n",
    "from skimage.color import rgba2rgb, rgb2xyz\n",
    "from tqdm import tqdm\n",
    "from dataclasses import dataclass\n",
    "from math import floor, ceil\n",
    "\n",
    "from main import calibrate_magnetic_wifi_ibeacon_to_position\n",
    "from main import extract_magnetic_strength\n",
    "from io_f import read_data_file\n",
    "from visualize_f import visualize_trajectory, visualize_heatmap\n",
    "from main import calibrate_magnetic_wifi_ibeacon_to_position\n",
    "from main import extract_magnetic_strength\n",
    "from main import extract_wifi_rssi, extract_wifi_count\n",
    "import processing\n",
    "import os\n",
    "\n",
    "sns.set_theme()\n",
    "\n",
    "%load_ext autoreload\n",
    "%autoreload 2"
   ]
  },
  {
   "cell_type": "code",
   "execution_count": 2,
   "id": "310d9584",
   "metadata": {},
   "outputs": [],
   "source": [
    "feature_dir = \"../resource/wifi_features\"\n",
    "# the metric used in this competition\n",
    "def comp_metric(xhat, yhat, fhat, x, y, f):\n",
    "    intermediate = np.sqrt(np.power(xhat - x,2) + np.power(yhat-y,2)) + 15 * np.abs(fhat-f)\n",
    "    return intermediate.sum()/xhat.shape[0]\n",
    "\n",
    "# get our train and test files\n",
    "train_files = sorted(glob.glob(os.path.join(feature_dir, 'train/*_train.csv')))\n",
    "test_files = sorted(glob.glob(os.path.join(feature_dir, 'test/*_test.csv')))\n",
    "ssubm = pd.read_csv('../sample_submission.csv', index_col=0)"
   ]
  },
  {
   "cell_type": "code",
   "execution_count": 14,
   "id": "8fa5e8a7",
   "metadata": {},
   "outputs": [
    {
     "data": {
      "text/html": [
       "<div>\n",
       "<style scoped>\n",
       "    .dataframe tbody tr th:only-of-type {\n",
       "        vertical-align: middle;\n",
       "    }\n",
       "\n",
       "    .dataframe tbody tr th {\n",
       "        vertical-align: top;\n",
       "    }\n",
       "\n",
       "    .dataframe thead th {\n",
       "        text-align: right;\n",
       "    }\n",
       "</style>\n",
       "<table border=\"1\" class=\"dataframe\">\n",
       "  <thead>\n",
       "    <tr style=\"text-align: right;\">\n",
       "      <th></th>\n",
       "      <th>0</th>\n",
       "      <th>1</th>\n",
       "      <th>2</th>\n",
       "    </tr>\n",
       "  </thead>\n",
       "  <tbody>\n",
       "    <tr>\n",
       "      <th>0</th>\n",
       "      <td>5a0546857ecc773753327266</td>\n",
       "      <td>046cfa46be49fc10834815c6</td>\n",
       "      <td>0000000000009</td>\n",
       "    </tr>\n",
       "    <tr>\n",
       "      <th>1</th>\n",
       "      <td>5a0546857ecc773753327266</td>\n",
       "      <td>046cfa46be49fc10834815c6</td>\n",
       "      <td>0000000009017</td>\n",
       "    </tr>\n",
       "    <tr>\n",
       "      <th>2</th>\n",
       "      <td>5a0546857ecc773753327266</td>\n",
       "      <td>046cfa46be49fc10834815c6</td>\n",
       "      <td>0000000015326</td>\n",
       "    </tr>\n",
       "    <tr>\n",
       "      <th>3</th>\n",
       "      <td>5a0546857ecc773753327266</td>\n",
       "      <td>046cfa46be49fc10834815c6</td>\n",
       "      <td>0000000018763</td>\n",
       "    </tr>\n",
       "    <tr>\n",
       "      <th>4</th>\n",
       "      <td>5a0546857ecc773753327266</td>\n",
       "      <td>046cfa46be49fc10834815c6</td>\n",
       "      <td>0000000022328</td>\n",
       "    </tr>\n",
       "  </tbody>\n",
       "</table>\n",
       "</div>"
      ],
      "text/plain": [
       "                          0                         1              2\n",
       "0  5a0546857ecc773753327266  046cfa46be49fc10834815c6  0000000000009\n",
       "1  5a0546857ecc773753327266  046cfa46be49fc10834815c6  0000000009017\n",
       "2  5a0546857ecc773753327266  046cfa46be49fc10834815c6  0000000015326\n",
       "3  5a0546857ecc773753327266  046cfa46be49fc10834815c6  0000000018763\n",
       "4  5a0546857ecc773753327266  046cfa46be49fc10834815c6  0000000022328"
      ]
     },
     "metadata": {},
     "output_type": "display_data"
    },
    {
     "data": {
      "text/html": [
       "<div>\n",
       "<style scoped>\n",
       "    .dataframe tbody tr th:only-of-type {\n",
       "        vertical-align: middle;\n",
       "    }\n",
       "\n",
       "    .dataframe tbody tr th {\n",
       "        vertical-align: top;\n",
       "    }\n",
       "\n",
       "    .dataframe thead th {\n",
       "        text-align: right;\n",
       "    }\n",
       "</style>\n",
       "<table border=\"1\" class=\"dataframe\">\n",
       "  <thead>\n",
       "    <tr style=\"text-align: right;\">\n",
       "      <th></th>\n",
       "      <th></th>\n",
       "      <th>2</th>\n",
       "    </tr>\n",
       "    <tr>\n",
       "      <th>0</th>\n",
       "      <th>1</th>\n",
       "      <th></th>\n",
       "    </tr>\n",
       "  </thead>\n",
       "  <tbody>\n",
       "    <tr>\n",
       "      <th rowspan=\"5\" valign=\"top\">5a0546857ecc773753327266</th>\n",
       "      <th>046cfa46be49fc10834815c6</th>\n",
       "      <td>9</td>\n",
       "    </tr>\n",
       "    <tr>\n",
       "      <th>05d052dde78384b0c543d89c</th>\n",
       "      <td>8</td>\n",
       "    </tr>\n",
       "    <tr>\n",
       "      <th>0c06cc9f21d172618d74c6c8</th>\n",
       "      <td>14</td>\n",
       "    </tr>\n",
       "    <tr>\n",
       "      <th>146035943a1482883ed98570</th>\n",
       "      <td>10</td>\n",
       "    </tr>\n",
       "    <tr>\n",
       "      <th>1ef2771dfea25d508142ba06</th>\n",
       "      <td>8</td>\n",
       "    </tr>\n",
       "    <tr>\n",
       "      <th>...</th>\n",
       "      <th>...</th>\n",
       "      <td>...</td>\n",
       "    </tr>\n",
       "    <tr>\n",
       "      <th rowspan=\"5\" valign=\"top\">5dc8cea7659e181adb076a3f</th>\n",
       "      <th>e83a1c294b5d138339149fcb</th>\n",
       "      <td>40</td>\n",
       "    </tr>\n",
       "    <tr>\n",
       "      <th>ee40c6e25fe024d5da451909</th>\n",
       "      <td>31</td>\n",
       "    </tr>\n",
       "    <tr>\n",
       "      <th>f9f99869dad1b2021ec7a7e2</th>\n",
       "      <td>25</td>\n",
       "    </tr>\n",
       "    <tr>\n",
       "      <th>fd4eee038c0ad7f0179e337e</th>\n",
       "      <td>15</td>\n",
       "    </tr>\n",
       "    <tr>\n",
       "      <th>fd64de8c4a2fc5ebb0e9f412</th>\n",
       "      <td>17</td>\n",
       "    </tr>\n",
       "  </tbody>\n",
       "</table>\n",
       "<p>626 rows × 1 columns</p>\n",
       "</div>"
      ],
      "text/plain": [
       "                                                    2\n",
       "0                        1                           \n",
       "5a0546857ecc773753327266 046cfa46be49fc10834815c6   9\n",
       "                         05d052dde78384b0c543d89c   8\n",
       "                         0c06cc9f21d172618d74c6c8  14\n",
       "                         146035943a1482883ed98570  10\n",
       "                         1ef2771dfea25d508142ba06   8\n",
       "...                                                ..\n",
       "5dc8cea7659e181adb076a3f e83a1c294b5d138339149fcb  40\n",
       "                         ee40c6e25fe024d5da451909  31\n",
       "                         f9f99869dad1b2021ec7a7e2  25\n",
       "                         fd4eee038c0ad7f0179e337e  15\n",
       "                         fd64de8c4a2fc5ebb0e9f412  17\n",
       "\n",
       "[626 rows x 1 columns]"
      ]
     },
     "execution_count": 14,
     "metadata": {},
     "output_type": "execute_result"
    }
   ],
   "source": [
    "# pred_df = pd.DataFrame([[v.split(\"_\")[0],v.split(\"_\")[1], v.split(\"_\")[2]] for v in ssubm.index])\n",
    "# display(pred_df.head())\n",
    "\n",
    "# pred_df.groupby([0,1]).count()"
   ]
  },
  {
   "cell_type": "code",
   "execution_count": 20,
   "id": "db25a5d5",
   "metadata": {},
   "outputs": [
    {
     "data": {
      "text/plain": [
       "'../test/6b6d91a5b97ed3c40c1411a7.txt'"
      ]
     },
     "execution_count": 20,
     "metadata": {},
     "output_type": "execute_result"
    }
   ],
   "source": []
  },
  {
   "cell_type": "markdown",
   "id": "774d4966",
   "metadata": {},
   "source": [
    "`'../test/6b6d91a5b97ed3c40c1411a7.txt'` このパスに置いては、testデータ数は3万行あるが、submissionの方は15件のみである。なので、データ数はかなり多いと考えて良い。"
   ]
  },
  {
   "cell_type": "code",
   "execution_count": null,
   "id": "f60f3802",
   "metadata": {},
   "outputs": [],
   "source": []
  }
 ],
 "metadata": {
  "kernelspec": {
   "display_name": "Python 3",
   "language": "python",
   "name": "python3"
  },
  "language_info": {
   "codemirror_mode": {
    "name": "ipython",
    "version": 3
   },
   "file_extension": ".py",
   "mimetype": "text/x-python",
   "name": "python",
   "nbconvert_exporter": "python",
   "pygments_lexer": "ipython3",
   "version": "3.9.4"
  },
  "toc": {
   "base_numbering": 1,
   "nav_menu": {},
   "number_sections": true,
   "sideBar": true,
   "skip_h1_title": false,
   "title_cell": "Table of Contents",
   "title_sidebar": "Contents",
   "toc_cell": false,
   "toc_position": {},
   "toc_section_display": true,
   "toc_window_display": false
  }
 },
 "nbformat": 4,
 "nbformat_minor": 5
}
