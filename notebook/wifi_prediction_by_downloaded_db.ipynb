{
 "cells": [
  {
   "cell_type": "markdown",
   "id": "beaab4c4",
   "metadata": {},
   "source": [
    "## purpose: wifiの特徴量の見つかって、予測をする。この予測値は後処理に使う予定。"
   ]
  },
  {
   "cell_type": "code",
   "execution_count": 4,
   "id": "387f3f21",
   "metadata": {},
   "outputs": [
    {
     "name": "stdout",
     "output_type": "stream",
     "text": [
      "The autoreload extension is already loaded. To reload it, use:\n",
      "  %reload_ext autoreload\n"
     ]
    }
   ],
   "source": [
    "import sys\n",
    "sys.path.append(\"..\")\n",
    "\n",
    "import os\n",
    "import json\n",
    "import glob\n",
    "import cv2\n",
    "import numpy as np\n",
    "import pandas as pd\n",
    "import matplotlib\n",
    "import matplotlib.pyplot as plt\n",
    "import plotly.graph_objs as go\n",
    "import seaborn as sns\n",
    "\n",
    "from PIL import Image, ImageOps\n",
    "from skimage import io\n",
    "from skimage.color import rgba2rgb, rgb2xyz\n",
    "from tqdm import tqdm\n",
    "from dataclasses import dataclass\n",
    "from math import floor, ceil\n",
    "\n",
    "from main import calibrate_magnetic_wifi_ibeacon_to_position\n",
    "from main import extract_magnetic_strength\n",
    "from io_f import read_data_file\n",
    "from visualize_f import visualize_trajectory, visualize_heatmap\n",
    "from main import calibrate_magnetic_wifi_ibeacon_to_position\n",
    "from main import extract_magnetic_strength\n",
    "from main import extract_wifi_rssi, extract_wifi_count\n",
    "import processing\n",
    "import os\n",
    "\n",
    "import lightgbm as lgb\n",
    "sns.set_theme()\n",
    "\n",
    "%load_ext autoreload\n",
    "%autoreload 2"
   ]
  },
  {
   "cell_type": "code",
   "execution_count": 2,
   "id": "3e762235",
   "metadata": {},
   "outputs": [],
   "source": [
    "feature_dir = \"../resource/wifi_features\"\n",
    "# the metric used in this competition\n",
    "def comp_metric(xhat, yhat, fhat, x, y, f):\n",
    "    intermediate = np.sqrt(np.power(xhat - x,2) + np.power(yhat-y,2)) + 15 * np.abs(fhat-f)\n",
    "    return intermediate.sum()/xhat.shape[0]\n",
    "\n",
    "# get our train and test files\n",
    "train_files = sorted(glob.glob(os.path.join(feature_dir, 'train/*_train.csv')))\n",
    "test_files = sorted(glob.glob(os.path.join(feature_dir, 'test/*_test.csv')))\n",
    "ssubm = pd.read_csv('../sample_submission.csv', index_col=0)"
   ]
  },
  {
   "cell_type": "code",
   "execution_count": 5,
   "id": "f1745f92",
   "metadata": {},
   "outputs": [],
   "source": [
    "predictions = list()\n",
    "\n",
    "for e, file in enumerate(train_files):\n",
    "    data = pd.read_csv(file, index_col=0)\n",
    "    test_data = pd.read_csv(test_files[e], index_col=0)\n",
    "\n",
    "    # simple grid search for tuning using path and groupkfold cv\n",
    "    #for i in [127]:\n",
    "    #    for n in [75]:\n",
    "    #        modely = lgb.LGBMRegressor(\n",
    "    #        n_estimators=n, num_leaves=i, n_jobs=1)\n",
    "    #        gkf = model_selection.GroupKFold()\n",
    "    #        scores = model_selection.cross_val_score(\n",
    "    #            modely, x_train, y_trainy, scoring='neg_mean_squared_error',\n",
    "    #            cv=gkf, groups=data.iloc[:,-1], n_jobs=5)\n",
    "    #        print(i, n, l, scores, scores.mean())\n",
    "    \n",
    "\n",
    "    x_train = data.iloc[:,:-4]\n",
    "    y_trainy = data.iloc[:,-3]\n",
    "    y_trainx = data.iloc[:,-4]\n",
    "    y_trainf = data.iloc[:,-2]\n",
    "\n",
    "    modely = lgb.LGBMRegressor(\n",
    "        n_estimators=125, num_leaves=90)\n",
    "    modely.fit(x_train, y_trainy)\n",
    "\n",
    "    modelx = lgb.LGBMRegressor(\n",
    "        n_estimators=125, num_leaves=90)\n",
    "    modelx.fit(x_train, y_trainx)\n",
    "\n",
    "    modelf = lgb.LGBMClassifier(\n",
    "        n_estimators=125, num_leaves=90)\n",
    "    modelf.fit(x_train, y_trainf)\n",
    "    \n",
    "    test_predsx = modelx.predict(test_data.iloc[:,:-1])\n",
    "    test_predsy = modely.predict(test_data.iloc[:,:-1])\n",
    "    test_predsf = modelf.predict(test_data.iloc[:,:-1])\n",
    "    \n",
    "    test_preds = pd.DataFrame(np.stack((test_predsf, test_predsx, test_predsy))).T\n",
    "    test_preds.columns = ssubm.columns\n",
    "    test_preds.index = test_data[\"site_path_timestamp\"]\n",
    "    test_preds[\"floor\"] = test_preds[\"floor\"].astype(int)\n",
    "    predictions.append(test_preds)\n",
    "# generate prediction file \n",
    "all_preds = pd.concat(predictions)\n",
    "all_preds = all_preds.reindex(ssubm.index)\n",
    "all_preds.to_csv('../output/wifi_prediction.csv')"
   ]
  },
  {
   "cell_type": "code",
   "execution_count": 10,
   "id": "76d15aff",
   "metadata": {},
   "outputs": [
    {
     "data": {
      "text/plain": [
       "['0000000000008',\n",
       " '0000000003114',\n",
       " '0000000005522',\n",
       " '0000000008223',\n",
       " '0000000013143',\n",
       " '0000000019651',\n",
       " '0000000024179',\n",
       " '0000000032725',\n",
       " '0000000040244',\n",
       " '0000000043815',\n",
       " '0000000052600',\n",
       " '0000000060237',\n",
       " '0000000062986',\n",
       " '0000000064849',\n",
       " '0000000067224',\n",
       " '0000000076427',\n",
       " '0000000079143',\n",
       " '0000000080918',\n",
       " '0000000082830',\n",
       " '0000000093080',\n",
       " '0000000096327',\n",
       " '0000000102271',\n",
       " '0000000110504']"
      ]
     },
     "execution_count": 10,
     "metadata": {},
     "output_type": "execute_result"
    }
   ],
   "source": [
    "# count_path = \"0\"\n",
    "# tss = []\n",
    "# for v in test_data[\"site_path_timestamp\"]:\n",
    "#     data_ppath = v.split(\"_\")\n",
    "#     if count_path == \"0\":\n",
    "#         count_path = data_ppath[1]\n",
    "#     if count_path != data_ppath[1]:\n",
    "#         break\n",
    "#     tss.append(data_ppath[-1])\n",
    "# tss"
   ]
  },
  {
   "cell_type": "code",
   "execution_count": null,
   "id": "5300e15e",
   "metadata": {},
   "outputs": [],
   "source": []
  }
 ],
 "metadata": {
  "kernelspec": {
   "display_name": "Python 3",
   "language": "python",
   "name": "python3"
  },
  "language_info": {
   "codemirror_mode": {
    "name": "ipython",
    "version": 3
   },
   "file_extension": ".py",
   "mimetype": "text/x-python",
   "name": "python",
   "nbconvert_exporter": "python",
   "pygments_lexer": "ipython3",
   "version": "3.9.4"
  },
  "toc": {
   "base_numbering": 1,
   "nav_menu": {},
   "number_sections": true,
   "sideBar": true,
   "skip_h1_title": false,
   "title_cell": "Table of Contents",
   "title_sidebar": "Contents",
   "toc_cell": false,
   "toc_position": {},
   "toc_section_display": true,
   "toc_window_display": false
  }
 },
 "nbformat": 4,
 "nbformat_minor": 5
}
